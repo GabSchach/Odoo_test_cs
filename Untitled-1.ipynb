{
 "cells": [
  {
   "cell_type": "code",
   "execution_count": 2,
   "metadata": {},
   "outputs": [],
   "source": [
    "import xmlrpc.client\n",
    "\n",
    "url = 'http://localhost:8069'\n",
    "db = 'odoo_db'\n",
    "username = 'testgabriel44@gmail.com'\n",
    "password = 'admin'\n",
    "\n",
    "\n",
    "\n",
    "common = xmlrpc.client.ServerProxy('{}/xmlrpc/2/common'.format(url))\n",
    "uid = common.authenticate(db, username, password, {})\n",
    "\n",
    "models = xmlrpc.client.ServerProxy('{}/xmlrpc/2/object'.format(url))\n",
    "\n",
    "\n",
    "# Example: Search for contacts  \n",
    "contacts = models.execute_kw(db, uid, password,\n",
    "    'res.partner', 'search_read',\n",
    "    [[['is_company', '=', True]]],\n",
    "    {'fields': ['name', 'email', 'phone']})"
   ]
  },
  {
   "cell_type": "code",
   "execution_count": 3,
   "metadata": {},
   "outputs": [
    {
     "data": {
      "text/plain": [
       "[{'id': 1,\n",
       "  'name': 'HDAB Goeg Test',\n",
       "  'email': 'testgabriel44@gmail.com',\n",
       "  'phone': False},\n",
       " {'id': 7, 'name': 'goeg_test', 'email': False, 'phone': False}]"
      ]
     },
     "execution_count": 3,
     "metadata": {},
     "output_type": "execute_result"
    }
   ],
   "source": [
    "contacts"
   ]
  }
 ],
 "metadata": {
  "kernelspec": {
   "display_name": "Python 3 (ipykernel)",
   "language": "python",
   "name": "python3"
  }
 },
 "nbformat": 4,
 "nbformat_minor": 2
}
